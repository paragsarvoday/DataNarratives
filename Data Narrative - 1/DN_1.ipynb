{
 "cells": [
  {
   "cell_type": "code",
   "execution_count": null,
   "metadata": {},
   "outputs": [],
   "source": []
  }
 ],
 "metadata": {
  "kernelspec": {
   "display_name": "Python 3",
   "language": "python",
   "name": "python3"
  },
  "language_info": {
   "name": "python",
   "version": "3.10.10"
  },
  "orig_nbformat": 4,
  "vscode": {
   "interpreter": {
    "hash": "537b4da61eb9e5ec5483a1b2c9d30faf3d635ec34a345625367dc8ead949f0f6"
   }
  }
 },
 "nbformat": 4,
 "nbformat_minor": 2
}
