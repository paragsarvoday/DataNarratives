{
 "cells": [
  {
   "cell_type": "code",
   "execution_count": 1,
   "metadata": {},
   "outputs": [],
   "source": [
    "kanto = [73, 67, 82]\n",
    "manto = [56,89,2]\n",
    "hano = [58,569,12]"
   ]
  },
  {
   "cell_type": "code",
   "execution_count": 2,
   "metadata": {},
   "outputs": [],
   "source": [
    "weights = [0.2,0.3,0.5]\n"
   ]
  },
  {
   "cell_type": "code",
   "execution_count": 5,
   "metadata": {},
   "outputs": [
    {
     "name": "stdout",
     "output_type": "stream",
     "text": [
      "73 0.2\n",
      "67 0.3\n",
      "82 0.5\n"
     ]
    }
   ],
   "source": [
    "for x,w in zip(kanto, weights):\n",
    "    print(x,w)"
   ]
  },
  {
   "cell_type": "code",
   "execution_count": 6,
   "metadata": {},
   "outputs": [],
   "source": [
    "def crop_yield(region, weights):\n",
    "    result = 0\n",
    "    for x, w in zip(region, weights):\n",
    "        result += x * w\n",
    "    return result    "
   ]
  },
  {
   "cell_type": "code",
   "execution_count": 7,
   "metadata": {},
   "outputs": [
    {
     "name": "stdout",
     "output_type": "stream",
     "text": [
      "75.7\n"
     ]
    }
   ],
   "source": [
    "print(crop_yield(kanto,weights))"
   ]
  },
  {
   "cell_type": "code",
   "execution_count": 8,
   "metadata": {},
   "outputs": [],
   "source": [
    "import numpy as np"
   ]
  },
  {
   "cell_type": "code",
   "execution_count": 9,
   "metadata": {},
   "outputs": [
    {
     "name": "stdout",
     "output_type": "stream",
     "text": [
      "Help on function dot in module numpy:\n",
      "\n",
      "dot(...)\n",
      "    dot(a, b, out=None)\n",
      "    \n",
      "    Dot product of two arrays. Specifically,\n",
      "    \n",
      "    - If both `a` and `b` are 1-D arrays, it is inner product of vectors\n",
      "      (without complex conjugation).\n",
      "    \n",
      "    - If both `a` and `b` are 2-D arrays, it is matrix multiplication,\n",
      "      but using :func:`matmul` or ``a @ b`` is preferred.\n",
      "    \n",
      "    - If either `a` or `b` is 0-D (scalar), it is equivalent to\n",
      "      :func:`multiply` and using ``numpy.multiply(a, b)`` or ``a * b`` is\n",
      "      preferred.\n",
      "    \n",
      "    - If `a` is an N-D array and `b` is a 1-D array, it is a sum product over\n",
      "      the last axis of `a` and `b`.\n",
      "    \n",
      "    - If `a` is an N-D array and `b` is an M-D array (where ``M>=2``), it is a\n",
      "      sum product over the last axis of `a` and the second-to-last axis of\n",
      "      `b`::\n",
      "    \n",
      "        dot(a, b)[i,j,k,m] = sum(a[i,j,:] * b[k,:,m])\n",
      "    \n",
      "    It uses an optimized BLAS library when possible (see `numpy.linalg`).\n",
      "    \n",
      "    Parameters\n",
      "    ----------\n",
      "    a : array_like\n",
      "        First argument.\n",
      "    b : array_like\n",
      "        Second argument.\n",
      "    out : ndarray, optional\n",
      "        Output argument. This must have the exact kind that would be returned\n",
      "        if it was not used. In particular, it must have the right type, must be\n",
      "        C-contiguous, and its dtype must be the dtype that would be returned\n",
      "        for `dot(a,b)`. This is a performance feature. Therefore, if these\n",
      "        conditions are not met, an exception is raised, instead of attempting\n",
      "        to be flexible.\n",
      "    \n",
      "    Returns\n",
      "    -------\n",
      "    output : ndarray\n",
      "        Returns the dot product of `a` and `b`.  If `a` and `b` are both\n",
      "        scalars or both 1-D arrays then a scalar is returned; otherwise\n",
      "        an array is returned.\n",
      "        If `out` is given, then it is returned.\n",
      "    \n",
      "    Raises\n",
      "    ------\n",
      "    ValueError\n",
      "        If the last dimension of `a` is not the same size as\n",
      "        the second-to-last dimension of `b`.\n",
      "    \n",
      "    See Also\n",
      "    --------\n",
      "    vdot : Complex-conjugating dot product.\n",
      "    tensordot : Sum products over arbitrary axes.\n",
      "    einsum : Einstein summation convention.\n",
      "    matmul : '@' operator as method with out parameter.\n",
      "    linalg.multi_dot : Chained dot product.\n",
      "    \n",
      "    Examples\n",
      "    --------\n",
      "    >>> np.dot(3, 4)\n",
      "    12\n",
      "    \n",
      "    Neither argument is complex-conjugated:\n",
      "    \n",
      "    >>> np.dot([2j, 3j], [2j, 3j])\n",
      "    (-13+0j)\n",
      "    \n",
      "    For 2-D arrays it is the matrix product:\n",
      "    \n",
      "    >>> a = [[1, 0], [0, 1]]\n",
      "    >>> b = [[4, 1], [2, 2]]\n",
      "    >>> np.dot(a, b)\n",
      "    array([[4, 1],\n",
      "           [2, 2]])\n",
      "    \n",
      "    >>> a = np.arange(3*4*5*6).reshape((3,4,5,6))\n",
      "    >>> b = np.arange(3*4*5*6)[::-1].reshape((5,4,6,3))\n",
      "    >>> np.dot(a, b)[2,3,2,1,2,2]\n",
      "    499128\n",
      "    >>> sum(a[2,3,2,:] * b[1,2,:,2])\n",
      "    499128\n",
      "\n"
     ]
    }
   ],
   "source": [
    "help(np.dot)"
   ]
  },
  {
   "cell_type": "code",
   "execution_count": 10,
   "metadata": {},
   "outputs": [
    {
     "data": {
      "text/plain": [
       "75.7"
      ]
     },
     "execution_count": 10,
     "metadata": {},
     "output_type": "execute_result"
    }
   ],
   "source": [
    "np.dot(kanto, weights)"
   ]
  },
  {
   "cell_type": "code",
   "execution_count": 11,
   "metadata": {},
   "outputs": [
    {
     "data": {
      "text/plain": [
       "['235', '236', '152', '256']"
      ]
     },
     "execution_count": 11,
     "metadata": {},
     "output_type": "execute_result"
    }
   ],
   "source": [
    "\"235,236,152,256\".split(\",\")"
   ]
  },
  {
   "cell_type": "code",
   "execution_count": null,
   "metadata": {},
   "outputs": [],
   "source": []
  }
 ],
 "metadata": {
  "kernelspec": {
   "display_name": "Python 3",
   "language": "python",
   "name": "python3"
  },
  "language_info": {
   "codemirror_mode": {
    "name": "ipython",
    "version": 3
   },
   "file_extension": ".py",
   "mimetype": "text/x-python",
   "name": "python",
   "nbconvert_exporter": "python",
   "pygments_lexer": "ipython3",
   "version": "3.10.10"
  },
  "orig_nbformat": 4,
  "vscode": {
   "interpreter": {
    "hash": "537b4da61eb9e5ec5483a1b2c9d30faf3d635ec34a345625367dc8ead949f0f6"
   }
  }
 },
 "nbformat": 4,
 "nbformat_minor": 2
}
