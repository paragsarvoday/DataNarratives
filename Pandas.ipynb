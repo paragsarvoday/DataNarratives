{
 "cells": [
  {
   "cell_type": "code",
   "execution_count": 3,
   "metadata": {},
   "outputs": [],
   "source": [
    "import pandas as pd"
   ]
  },
  {
   "cell_type": "code",
   "execution_count": 4,
   "metadata": {},
   "outputs": [
    {
     "name": "stdout",
     "output_type": "stream",
     "text": [
      "0     5\n",
      "1     3\n",
      "2     6\n",
      "3    90\n",
      "dtype: int64\n"
     ]
    }
   ],
   "source": [
    "a = [5,3,6,90]\n",
    "\n",
    "myvar = pd.Series(a)\n",
    "\n",
    "print(myvar)"
   ]
  },
  {
   "cell_type": "code",
   "execution_count": 5,
   "metadata": {},
   "outputs": [
    {
     "name": "stdout",
     "output_type": "stream",
     "text": [
      "5\n"
     ]
    }
   ],
   "source": [
    "print(myvar[0])"
   ]
  },
  {
   "cell_type": "code",
   "execution_count": 6,
   "metadata": {},
   "outputs": [
    {
     "name": "stdout",
     "output_type": "stream",
     "text": [
      "alpha     5\n",
      "beta      3\n",
      "gamma     6\n",
      "delta    90\n",
      "dtype: int64\n"
     ]
    }
   ],
   "source": [
    "a = [5,3,6,90]\n",
    "\n",
    "myvar = pd.Series(a, index = [\"alpha\", \"beta\", \"gamma\", \"delta\"])\n",
    "print(myvar)"
   ]
  },
  {
   "cell_type": "code",
   "execution_count": 7,
   "metadata": {},
   "outputs": [
    {
     "name": "stdout",
     "output_type": "stream",
     "text": [
      "3\n"
     ]
    }
   ],
   "source": [
    "print(myvar[\"beta\"])"
   ]
  },
  {
   "cell_type": "code",
   "execution_count": 8,
   "metadata": {},
   "outputs": [
    {
     "name": "stdout",
     "output_type": "stream",
     "text": [
      "Mon      2\n",
      "Tue      3\n",
      "Wed      4\n",
      "Thurs    3\n",
      "dtype: int64\n"
     ]
    }
   ],
   "source": [
    "work_hours = {\"Mon\": 2, \"Tue\": 3, \"Wed\": 4, \"Thurs\":3}\n",
    "myvar1 = pd.Series(work_hours)\n",
    "\n",
    "print(myvar1)"
   ]
  },
  {
   "cell_type": "code",
   "execution_count": 9,
   "metadata": {},
   "outputs": [
    {
     "name": "stdout",
     "output_type": "stream",
     "text": [
      "Rupak\n"
     ]
    }
   ],
   "source": [
    "#Just is tangent\n",
    "my_str = \"rupak\"\n",
    "x = my_str.capitalize()\n",
    "print(x)"
   ]
  },
  {
   "cell_type": "code",
   "execution_count": 10,
   "metadata": {},
   "outputs": [
    {
     "name": "stdout",
     "output_type": "stream",
     "text": [
      "2\n"
     ]
    }
   ],
   "source": [
    "print(myvar1[\"Mon\"])"
   ]
  },
  {
   "cell_type": "code",
   "execution_count": 11,
   "metadata": {},
   "outputs": [
    {
     "name": "stdout",
     "output_type": "stream",
     "text": [
      "M       1\n",
      "T       3\n",
      "Thur    2\n",
      "dtype: int64\n"
     ]
    }
   ],
   "source": [
    "assgn_due = {\"M\":1, \"T\":3, \"W\":5, \"Thur\":2}\n",
    "var = pd.Series(assgn_due, index = [\"M\", \"T\", \"Thur\"])\n",
    "print(var)"
   ]
  },
  {
   "cell_type": "code",
   "execution_count": 12,
   "metadata": {},
   "outputs": [
    {
     "name": "stdout",
     "output_type": "stream",
     "text": [
      "   calories  duration\n",
      "0       420        50\n",
      "1       380        40\n",
      "2       390        45\n"
     ]
    }
   ],
   "source": [
    "#Moving on to dataframes\n",
    "data = {\n",
    "    \"calories\": [420, 380, 390],\n",
    "    \"duration\": [50, 40, 45] \n",
    "}\n",
    "\n",
    "r_var = pd.DataFrame(data)\n",
    "print(r_var)"
   ]
  },
  {
   "cell_type": "code",
   "execution_count": 15,
   "metadata": {},
   "outputs": [
    {
     "name": "stdout",
     "output_type": "stream",
     "text": [
      "   calories  duration\n",
      "0       420        50\n"
     ]
    }
   ],
   "source": [
    "print(r_var.head(1))"
   ]
  },
  {
   "cell_type": "code",
   "execution_count": 16,
   "metadata": {},
   "outputs": [
    {
     "name": "stdout",
     "output_type": "stream",
     "text": [
      "   calories  duration\n",
      "2       390        45\n"
     ]
    }
   ],
   "source": [
    "print(r_var.tail(1))"
   ]
  },
  {
   "cell_type": "code",
   "execution_count": 17,
   "metadata": {},
   "outputs": [
    {
     "name": "stdout",
     "output_type": "stream",
     "text": [
      "<bound method DataFrame.info of    calories  duration\n",
      "0       420        50\n",
      "1       380        40\n",
      "2       390        45>\n"
     ]
    }
   ],
   "source": [
    "print(r_var.info)"
   ]
  },
  {
   "cell_type": "code",
   "execution_count": 18,
   "metadata": {},
   "outputs": [
    {
     "name": "stdout",
     "output_type": "stream",
     "text": [
      "  x1  x2\n",
      "0  A   1\n",
      "1  B   3\n",
      "2  A   2\n",
      "3  A   2\n",
      "4  B   3\n",
      "5  A   1\n",
      "6  A   2\n",
      "7  A   3\n"
     ]
    }
   ],
   "source": [
    "\n",
    "df = {'x1': ['A','B','A','A','B','A','A','A'], 'x2': [1,3,2,2,3,1,2,3]}\n",
    "df = pd.DataFrame(df)\n",
    "print(df)"
   ]
  },
  {
   "cell_type": "code",
   "execution_count": null,
   "metadata": {},
   "outputs": [],
   "source": []
  }
 ],
 "metadata": {
  "kernelspec": {
   "display_name": "Python 3",
   "language": "python",
   "name": "python3"
  },
  "language_info": {
   "codemirror_mode": {
    "name": "ipython",
    "version": 3
   },
   "file_extension": ".py",
   "mimetype": "text/x-python",
   "name": "python",
   "nbconvert_exporter": "python",
   "pygments_lexer": "ipython3",
   "version": "3.10.10"
  },
  "orig_nbformat": 4,
  "vscode": {
   "interpreter": {
    "hash": "537b4da61eb9e5ec5483a1b2c9d30faf3d635ec34a345625367dc8ead949f0f6"
   }
  }
 },
 "nbformat": 4,
 "nbformat_minor": 2
}
